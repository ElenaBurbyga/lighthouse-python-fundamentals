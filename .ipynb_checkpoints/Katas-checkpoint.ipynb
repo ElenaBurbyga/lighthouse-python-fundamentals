{
 "cells": [
  {
   "cell_type": "code",
   "execution_count": 7,
   "id": "fe2b92cf-5ac1-46c4-b909-594784c5ebe0",
   "metadata": {},
   "outputs": [],
   "source": [
    "import pandas as pd\n",
    "import numpy as np"
   ]
  },
  {
   "cell_type": "code",
   "execution_count": 34,
   "id": "3ffdd902-96a8-459e-99f9-b579b994a1b2",
   "metadata": {},
   "outputs": [
    {
     "name": "stdout",
     "output_type": "stream",
     "text": [
      "11\n",
      "5\n",
      "126\n"
     ]
    }
   ],
   "source": [
    "def sumLargestNumbers(l):\n",
    "    list_sorted = sorted(l)\n",
    "    sum = list_sorted[-1] + list_sorted[-2]\n",
    "    return sum\n",
    "       \n",
    "    \n",
    "\n",
    "print(sumLargestNumbers([1, 10]))\n",
    "print(sumLargestNumbers([1, 2, 3]))\n",
    "print(sumLargestNumbers([10, 4, 34, 6, 92, 2]))\n"
   ]
  },
  {
   "cell_type": "code",
   "execution_count": 38,
   "id": "e8f1d820-e16c-47a1-98ea-e7a47d925e2a",
   "metadata": {},
   "outputs": [
    {
     "name": "stdout",
     "output_type": "stream",
     "text": [
      "6\n",
      "9\n",
      "144\n",
      "0\n"
     ]
    }
   ],
   "source": [
    "def conditionalSum(values, condition):\n",
    "    sum = 0\n",
    "    for value in values:\n",
    "        if condition == \"even\":\n",
    "            if value % 2 == 0:\n",
    "                sum += value\n",
    "        elif condition == \"odd\":\n",
    "            if value % 2 == 1:\n",
    "                sum += value\n",
    "    return sum                \n",
    "\n",
    "print(conditionalSum([1, 2, 3, 4, 5], \"even\"))\n",
    "print(conditionalSum([1, 2, 3, 4, 5], \"odd\"))\n",
    "print(conditionalSum([13, 88, 12, 44, 99], \"even\"))\n",
    "print(conditionalSum([], \"odd\"))"
   ]
  },
  {
   "cell_type": "code",
   "execution_count": 68,
   "id": "10a8893a-7ed0-46fd-8e05-a39b71fd4970",
   "metadata": {},
   "outputs": [
    {
     "name": "stdout",
     "output_type": "stream",
     "text": [
      "3\n",
      "5\n",
      "5\n"
     ]
    }
   ],
   "source": [
    "def numberOfVowels(data):  \n",
    "    Vowels = \"aeiou\"\n",
    "    counter = 0\n",
    "    for i in range(len(data)):\n",
    "        if data[i] in Vowels:\n",
    "            counter += 1\n",
    "    return counter            \n",
    "            \n",
    "print(numberOfVowels(\"orange\"))\n",
    "print(numberOfVowels(\"lighthouse labs\"))\n",
    "print(numberOfVowels(\"aeiou\"))\n"
   ]
  },
  {
   "cell_type": "code",
   "execution_count": 91,
   "id": "34276158-0841-44f4-862e-173ee19eb1a0",
   "metadata": {},
   "outputs": [
    {
     "name": "stdout",
     "output_type": "stream",
     "text": [
      "Jeremiah\n",
      "Domascus\n"
     ]
    }
   ],
   "source": [
    "def instructorWithLongestName(instructors):\n",
    "    name = \"\"\n",
    "    for item in instructors:\n",
    "        if len(item[\"name\"]) > len(name):\n",
    "            name = item[\"name\"]\n",
    "        elif len(item[\"name\"]) == len(name):\n",
    "            name = name\n",
    "    return name\n",
    "           \n",
    "    \n",
    "print(instructorWithLongestName([\n",
    "  {\"name\": \"Samuel\", \"course\": \"iOS\"},\n",
    "  {\"name\": \"Jeremiah\", \"course\": \"Data\"},\n",
    "  {\"name\": \"Ophilia\", \"course\": \"Web\"},\n",
    "  {\"name\": \"Donald\", \"course\": \"Web\"}\n",
    "]))\n",
    "print(instructorWithLongestName([\n",
    "  {\"name\": \"Matthew\", \"course\": \"Data\"},\n",
    "  {\"name\": \"David\", \"course\": \"iOS\"},\n",
    "  {\"name\": \"Domascus\", \"course\": \"Web\"}\n",
    "]))"
   ]
  },
  {
   "cell_type": "code",
   "execution_count": 135,
   "id": "7766c86d-9066-4d84-adc0-dc2be606017e",
   "metadata": {},
   "outputs": [
    {
     "name": "stdout",
     "output_type": "stream",
     "text": [
      "Lighthouse%20Labs\n",
      "Lighthouse%20Labs\n",
      "blue%20sureis%20suregreener%20surethan%20surepurple%20surefor%20sure\n"
     ]
    }
   ],
   "source": [
    "def urlEncode(text):\n",
    "    new_text = ''\n",
    "    text = text.split()\n",
    "    for i in range(len(text)):\n",
    "        if i != len(text) - 1:\n",
    "            new_text += text[i]+'%20'+ text[len(text) - 1]\n",
    "    return new_text\n",
    "\n",
    "print(urlEncode(\"Lighthouse Labs\"))\n",
    "print(urlEncode(\" Lighthouse Labs  \"))\n",
    "print(urlEncode(\"blue is greener than purple for sure\"))\n"
   ]
  },
  {
   "cell_type": "code",
   "execution_count": 153,
   "id": "e7ec2f99-2b3c-4ce2-95c9-7183bb379f87",
   "metadata": {},
   "outputs": [
    {
     "name": "stdout",
     "output_type": "stream",
     "text": [
      "False\n",
      "False\n",
      "[]\n"
     ]
    }
   ],
   "source": [
    "def whereCanIPark(spots, vehicle):\n",
    "    spot = []\n",
    "    for y in range(len(spots)):\n",
    "        for x in range(len(spots[y])):\n",
    "            if vehicle == 'regular':\n",
    "                if spots[y][x] == 'R':\n",
    "                    spot = [x,y]\n",
    "                else:\n",
    "                    spot = False    \n",
    "            elif vehicle == 'small':\n",
    "                if spots[y][x] == 'R' or spots[y][x] == 'S':\n",
    "                    spot = [x,y]\n",
    "                else:\n",
    "                    spot = False    \n",
    "            elif vehicle == 'motorcycles':\n",
    "                if spots[y][x] == 'R' or spots[y][x] =='S' or spots[y][x] == 'M':\n",
    "                    spot = [x,y]        \n",
    "                else:\n",
    "                    spot = False\n",
    "    return spot\n",
    "    \n",
    "\n",
    "\n",
    "print(whereCanIPark(\n",
    "  [\n",
    "    # COLUMNS ARE X\n",
    "    # 0    1    2    3    4    5\n",
    "    ['s', 's', 's', 'S', 'R', 'M'], # 0 ROWS ARE Y\n",
    "    ['s', 'M', 's', 'S', 'r', 'M'], # 1\n",
    "    ['s', 'M', 's', 'S', 'r', 'm'], # 2\n",
    "    ['S', 'r', 's', 'm', 'r', 'M'], # 3\n",
    "    ['S', 'r', 's', 'm', 'r', 'M'], # 4\n",
    "    ['S', 'r', 'S', 'M', 'M', 'S']  # 5\n",
    "  ],\n",
    "  'regular'\n",
    "))\n",
    "\n",
    "print(whereCanIPark(\n",
    "  [\n",
    "    ['M', 'M', 'M', 'M'],\n",
    "    ['M', 's', 'M', 'M'],\n",
    "    ['M', 'M', 'M', 'M'],\n",
    "    ['M', 'M', 'r', 'M']\n",
    "  ],\n",
    "  'small'\n",
    "))\n",
    "\n",
    "print(whereCanIPark(\n",
    "  [\n",
    "    ['s', 's', 's', 's', 's', 's'],\n",
    "    ['s', 'm', 's', 'S', 'r', 's'],\n",
    "    ['s', 'm', 's', 'S', 'r', 's'],\n",
    "    ['S', 'r', 's', 'm', 'r', 's'],\n",
    "    ['S', 'r', 's', 'm', 'R', 's'],\n",
    "    ['S', 'r', 'S', 'M', 'm', 'S']\n",
    "  ],\n",
    "  'motorcycle'\n",
    "))"
   ]
  },
  {
   "cell_type": "code",
   "execution_count": null,
   "id": "b75f3d5e-807d-4dbf-b8de-e70f391e4305",
   "metadata": {},
   "outputs": [],
   "source": []
  }
 ],
 "metadata": {
  "kernelspec": {
   "display_name": "Python 3",
   "language": "python",
   "name": "python3"
  },
  "language_info": {
   "codemirror_mode": {
    "name": "ipython",
    "version": 3
   },
   "file_extension": ".py",
   "mimetype": "text/x-python",
   "name": "python",
   "nbconvert_exporter": "python",
   "pygments_lexer": "ipython3",
   "version": "3.8.8"
  }
 },
 "nbformat": 4,
 "nbformat_minor": 5
}
