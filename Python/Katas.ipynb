{
 "cells": [
  {
   "cell_type": "code",
   "execution_count": 7,
   "id": "fe2b92cf-5ac1-46c4-b909-594784c5ebe0",
   "metadata": {},
   "outputs": [],
   "source": [
    "import pandas as pd\n",
    "import numpy as np"
   ]
  },
  {
   "cell_type": "code",
   "execution_count": 34,
   "id": "3ffdd902-96a8-459e-99f9-b579b994a1b2",
   "metadata": {},
   "outputs": [
    {
     "name": "stdout",
     "output_type": "stream",
     "text": [
      "11\n",
      "5\n",
      "126\n"
     ]
    }
   ],
   "source": [
    "def sumLargestNumbers(l):\n",
    "    list_sorted = sorted(l)\n",
    "    sum = list_sorted[-1] + list_sorted[-2]\n",
    "    return sum\n",
    "       \n",
    "    \n",
    "\n",
    "print(sumLargestNumbers([1, 10]))\n",
    "print(sumLargestNumbers([1, 2, 3]))\n",
    "print(sumLargestNumbers([10, 4, 34, 6, 92, 2]))\n"
   ]
  },
  {
   "cell_type": "code",
   "execution_count": 38,
   "id": "e8f1d820-e16c-47a1-98ea-e7a47d925e2a",
   "metadata": {},
   "outputs": [
    {
     "name": "stdout",
     "output_type": "stream",
     "text": [
      "6\n",
      "9\n",
      "144\n",
      "0\n"
     ]
    }
   ],
   "source": [
    "def conditionalSum(values, condition):\n",
    "    sum = 0\n",
    "    for value in values:\n",
    "        if condition == \"even\":\n",
    "            if value % 2 == 0:\n",
    "                sum += value\n",
    "        elif condition == \"odd\":\n",
    "            if value % 2 == 1:\n",
    "                sum += value\n",
    "    return sum                \n",
    "\n",
    "print(conditionalSum([1, 2, 3, 4, 5], \"even\"))\n",
    "print(conditionalSum([1, 2, 3, 4, 5], \"odd\"))\n",
    "print(conditionalSum([13, 88, 12, 44, 99], \"even\"))\n",
    "print(conditionalSum([], \"odd\"))"
   ]
  },
  {
   "cell_type": "code",
   "execution_count": 68,
   "id": "10a8893a-7ed0-46fd-8e05-a39b71fd4970",
   "metadata": {},
   "outputs": [
    {
     "name": "stdout",
     "output_type": "stream",
     "text": [
      "3\n",
      "5\n",
      "5\n"
     ]
    }
   ],
   "source": [
    "def numberOfVowels(data):  \n",
    "    Vowels = \"aeiou\"\n",
    "    counter = 0\n",
    "    for i in range(len(data)):\n",
    "        if data[i] in Vowels:\n",
    "            counter += 1\n",
    "    return counter            \n",
    "            \n",
    "print(numberOfVowels(\"orange\"))\n",
    "print(numberOfVowels(\"lighthouse labs\"))\n",
    "print(numberOfVowels(\"aeiou\"))\n"
   ]
  },
  {
   "cell_type": "code",
   "execution_count": 91,
   "id": "34276158-0841-44f4-862e-173ee19eb1a0",
   "metadata": {},
   "outputs": [
    {
     "name": "stdout",
     "output_type": "stream",
     "text": [
      "Jeremiah\n",
      "Domascus\n"
     ]
    }
   ],
   "source": [
    "def instructorWithLongestName(instructors):\n",
    "    name = \"\"\n",
    "    for item in instructors:\n",
    "        if len(item[\"name\"]) > len(name):\n",
    "            name = item[\"name\"]\n",
    "        elif len(item[\"name\"]) == len(name):\n",
    "            name = name\n",
    "    return name\n",
    "           \n",
    "    \n",
    "print(instructorWithLongestName([\n",
    "  {\"name\": \"Samuel\", \"course\": \"iOS\"},\n",
    "  {\"name\": \"Jeremiah\", \"course\": \"Data\"},\n",
    "  {\"name\": \"Ophilia\", \"course\": \"Web\"},\n",
    "  {\"name\": \"Donald\", \"course\": \"Web\"}\n",
    "]))\n",
    "print(instructorWithLongestName([\n",
    "  {\"name\": \"Matthew\", \"course\": \"Data\"},\n",
    "  {\"name\": \"David\", \"course\": \"iOS\"},\n",
    "  {\"name\": \"Domascus\", \"course\": \"Web\"}\n",
    "]))"
   ]
  },
  {
   "cell_type": "code",
   "execution_count": 135,
   "id": "7766c86d-9066-4d84-adc0-dc2be606017e",
   "metadata": {},
   "outputs": [
    {
     "name": "stdout",
     "output_type": "stream",
     "text": [
      "Lighthouse%20Labs\n",
      "Lighthouse%20Labs\n",
      "blue%20sureis%20suregreener%20surethan%20surepurple%20surefor%20sure\n"
     ]
    }
   ],
   "source": [
    "def urlEncode(text):\n",
    "    new_text = ''\n",
    "    text = text.split()\n",
    "    for i in range(len(text)):\n",
    "        if i != len(text) - 1:\n",
    "            new_text += text[i]+'%20'+ text[len(text) - 1]\n",
    "    return new_text\n",
    "\n",
    "print(urlEncode(\"Lighthouse Labs\"))\n",
    "print(urlEncode(\" Lighthouse Labs  \"))\n",
    "print(urlEncode(\"blue is greener than purple for sure\"))\n"
   ]
  },
  {
   "cell_type": "code",
   "execution_count": 12,
   "id": "e7ec2f99-2b3c-4ce2-95c9-7183bb379f87",
   "metadata": {
    "tags": []
   },
   "outputs": [
    {
     "name": "stdout",
     "output_type": "stream",
     "text": [
      "[4, 0]\n",
      "False\n",
      "[3, 1]\n"
     ]
    }
   ],
   "source": [
    "def whereCanIPark(spots, vehicle):\n",
    "    spot = []\n",
    "    for y in range(len(spots)):\n",
    "        for x in range(len(spots[y])):\n",
    "            if vehicle == \"regular\":\n",
    "                if spots[y][x] == \"R\":\n",
    "                    spot = [x,y]\n",
    "                    break\n",
    "            if vehicle == \"small\":\n",
    "                if spots[y][x] == \"R\" or spots[y][x] == \"S\":\n",
    "                    spot = [x,y]\n",
    "                    break\n",
    "            if vehicle == \"motorcycle\":\n",
    "                if spots[y][x] == \"S\" or spots[y][x] == \"R\" or spots[y][x] == \"M\":\n",
    "                    spot = [x,y]\n",
    "                    break\n",
    "        if spot:\n",
    "            break\n",
    "    return spot if spot else False         \n",
    "             \n",
    "    \n",
    "\n",
    "\n",
    "print(whereCanIPark(\n",
    "  [\n",
    "    # COLUMNS ARE X\n",
    "    # 0    1    2    3    4    5\n",
    "    ['s', 's', 's', 'S', 'R', 'M'], # 0 ROWS ARE Y\n",
    "    ['s', 'M', 's', 'S', 'r', 'M'], # 1\n",
    "    ['s', 'M', 's', 'S', 'r', 'm'], # 2\n",
    "    ['S', 'r', 's', 'm', 'r', 'M'], # 3\n",
    "    ['S', 'r', 's', 'm', 'r', 'M'], # 4\n",
    "    ['S', 'r', 'S', 'M', 'M', 'S']  # 5\n",
    "  ],\n",
    "  'regular'\n",
    "))\n",
    "\n",
    "print(whereCanIPark(\n",
    "  [\n",
    "    ['M', 'M', 'M', 'M'],\n",
    "    ['M', 's', 'M', 'M'],\n",
    "    ['M', 'M', 'M', 'M'],\n",
    "    ['M', 'M', 'r', 'M']\n",
    "  ],\n",
    "  'small'\n",
    "))\n",
    "\n",
    "print(whereCanIPark(\n",
    "  [\n",
    "    ['s', 's', 's', 's', 's', 's'],\n",
    "    ['s', 'm', 's', 'S', 'r', 's'],\n",
    "    ['s', 'm', 's', 'S', 'r', 's'],\n",
    "    ['S', 'r', 's', 'm', 'r', 's'],\n",
    "    ['S', 'r', 's', 'm', 'R', 's'],\n",
    "    ['S', 'r', 'S', 'M', 'm', 'S']\n",
    "  ],\n",
    "  'motorcycle'\n",
    "))"
   ]
  },
  {
   "cell_type": "code",
   "execution_count": 18,
   "id": "b75f3d5e-807d-4dbf-b8de-e70f391e4305",
   "metadata": {},
   "outputs": [
    {
     "name": "stdout",
     "output_type": "stream",
     "text": [
      "Polluted\n",
      "Polluted\n",
      "Clean\n"
     ]
    }
   ],
   "source": [
    "def checkAir(samples, threshold):\n",
    "    verdict = ''\n",
    "    if samples.count('dirty') / len(samples) >= threshold:\n",
    "        verdict = 'Polluted'\n",
    "    else:\n",
    "        verdict = 'Clean'\n",
    "    return verdict        \n",
    "        \n",
    "    \n",
    "    \n",
    "    \n",
    "    \n",
    "print(checkAir(\n",
    "  ['clean', 'clean', 'dirty', 'clean', 'dirty', 'clean', 'clean', 'dirty', 'clean', 'dirty'],\n",
    "  0.3\n",
    "))\n",
    "\n",
    "print(checkAir(\n",
    "  ['dirty', 'dirty', 'dirty', 'dirty', 'clean'],\n",
    "  0.25\n",
    "))\n",
    "\n",
    "print(checkAir(\n",
    "  ['clean', 'dirty', 'clean', 'dirty', 'clean', 'dirty', 'clean'],\n",
    "  0.9\n",
    "))\n"
   ]
  },
  {
   "cell_type": "code",
   "execution_count": 24,
   "id": "b3010fa3-c9fc-43c2-9b5d-6435e3ace21a",
   "metadata": {},
   "outputs": [
    {
     "name": "stdout",
     "output_type": "stream",
     "text": [
      "1111111111, \n",
      "11, 222, \n",
      "10101010, 343434343434, 9292, \n"
     ]
    }
   ],
   "source": [
    "def repeatNumbers(data):\n",
    "    string = ''\n",
    "    for i in range(len(data)):\n",
    "        string += (str(data[i][0]) * data[i][1]) + ', '\n",
    "        \n",
    "    return string\n",
    "\n",
    "print(repeatNumbers([[1, 10]]))\n",
    "print(repeatNumbers([[1, 2], [2, 3]]))\n",
    "print(repeatNumbers([[10, 4], [34, 6], [92, 2]]))"
   ]
  },
  {
   "cell_type": "code",
   "execution_count": 49,
   "id": "5453cf25-8d66-4a35-9e7b-f77e481998ae",
   "metadata": {},
   "outputs": [
    {
     "name": "stdout",
     "output_type": "stream",
     "text": [
      "thisIsAString\n",
      "loopyLighthouse\n",
      "supercalifragalisticexpialidocious\n"
     ]
    }
   ],
   "source": [
    "def camelCase(input):\n",
    "    split_string = input.split()[1:]\n",
    "    new_string = input.split()[0]\n",
    "    for i in range(len(split_string)):\n",
    "        new_string += split_string[i].title()\n",
    "    return new_string\n",
    "\n",
    "print(camelCase(\"this is a string\"))\n",
    "print(camelCase(\"loopy lighthouse\"))\n",
    "print(camelCase(\"supercalifragalisticexpialidocious\"))\n",
    "        \n",
    "        "
   ]
  },
  {
   "cell_type": "code",
   "execution_count": 69,
   "id": "af88af0f-2603-45f6-ace7-b799f02f6878",
   "metadata": {},
   "outputs": [
    {
     "name": "stdout",
     "output_type": "stream",
     "text": [
      "1\n",
      "1 2 3 4 5\n",
      "2 4 6 8 10\n",
      "3 6 9 12 15\n",
      "4 8 12 16 20\n",
      "5 10 15 20 25\n",
      "1 2 3 4 5 6 7 8 9 10\n",
      "2 4 6 8 10 12 14 16 18 20\n",
      "3 6 9 12 15 18 21 24 27 30\n",
      "4 8 12 16 20 24 28 32 36 40\n",
      "5 10 15 20 25 30 35 40 45 50\n",
      "6 12 18 24 30 36 42 48 54 60\n",
      "7 14 21 28 35 42 49 56 63 70\n",
      "8 16 24 32 40 48 56 64 72 80\n",
      "9 18 27 36 45 54 63 72 81 90\n",
      "10 20 30 40 50 60 70 80 90 100\n"
     ]
    }
   ],
   "source": [
    "def multiplicationTable(maxValue):\n",
    "    table = []\n",
    "    for multiplier in range(1,maxValue + 1):\n",
    "        row = []\n",
    "        for currnum in range(1,maxValue + 1):\n",
    "            row.append(str(multiplier * currnum))\n",
    "        table.append(\" \".join(row))    \n",
    "            \n",
    "        \n",
    "       \n",
    "    return \"\\n\".join(table)        \n",
    "        \n",
    "\n",
    "\n",
    "print(multiplicationTable(1))\n",
    "print(multiplicationTable(5))\n",
    "print(multiplicationTable(10))\n"
   ]
  }
 ],
 "metadata": {
  "kernelspec": {
   "display_name": "Python 3",
   "language": "python",
   "name": "python3"
  },
  "language_info": {
   "codemirror_mode": {
    "name": "ipython",
    "version": 3
   },
   "file_extension": ".py",
   "mimetype": "text/x-python",
   "name": "python",
   "nbconvert_exporter": "python",
   "pygments_lexer": "ipython3",
   "version": "3.8.8"
  }
 },
 "nbformat": 4,
 "nbformat_minor": 5
}
